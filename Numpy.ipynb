{
  "nbformat": 4,
  "nbformat_minor": 0,
  "metadata": {
    "colab": {
      "name": "Untitled0.ipynb",
      "provenance": [],
      "authorship_tag": "ABX9TyPLge3k9MCd1gyGrcgF4ens",
      "include_colab_link": true
    },
    "kernelspec": {
      "name": "python3",
      "display_name": "Python 3"
    }
  },
  "cells": [
    {
      "cell_type": "markdown",
      "metadata": {
        "id": "view-in-github",
        "colab_type": "text"
      },
      "source": [
        "<a href=\"https://colab.research.google.com/github/martakrusz/data-science-bootcamp/blob/main/Numpy.ipynb\" target=\"_parent\"><img src=\"https://colab.research.google.com/assets/colab-badge.svg\" alt=\"Open In Colab\"/></a>"
      ]
    },
    {
      "cell_type": "markdown",
      "metadata": {
        "id": "c30SVAi64Fh-"
      },
      "source": [
        "# WPROWADZENIE DO NUMPY"
      ]
    },
    {
      "cell_type": "code",
      "metadata": {
        "colab": {
          "base_uri": "https://localhost:8080/",
          "height": 36
        },
        "id": "Pkq6jFZvsmGO",
        "outputId": "eed02837-5b06-4194-a417-9e2bb2b8256a"
      },
      "source": [
        "import numpy as np\r\n",
        "np.__version__"
      ],
      "execution_count": null,
      "outputs": [
        {
          "output_type": "execute_result",
          "data": {
            "application/vnd.google.colaboratory.intrinsic+json": {
              "type": "string"
            },
            "text/plain": [
              "'1.19.5'"
            ]
          },
          "metadata": {
            "tags": []
          },
          "execution_count": 5
        }
      ]
    },
    {
      "cell_type": "code",
      "metadata": {
        "id": "H04EnavaxPp7"
      },
      "source": [
        "print(dir(np))"
      ],
      "execution_count": null,
      "outputs": []
    },
    {
      "cell_type": "markdown",
      "metadata": {
        "id": "QbhRF5SeyGNj"
      },
      "source": [
        "1 wymiarowa tablica\r\n"
      ]
    },
    {
      "cell_type": "code",
      "metadata": {
        "colab": {
          "base_uri": "https://localhost:8080/"
        },
        "id": "xnafYn7lyNaX",
        "outputId": "f9af7953-8330-4ec1-b82b-b5fcef999c25"
      },
      "source": [
        "x = np.array([1,3])\r\n",
        "x"
      ],
      "execution_count": null,
      "outputs": [
        {
          "output_type": "execute_result",
          "data": {
            "text/plain": [
              "array([1, 3])"
            ]
          },
          "metadata": {
            "tags": []
          },
          "execution_count": 7
        }
      ]
    },
    {
      "cell_type": "code",
      "metadata": {
        "colab": {
          "base_uri": "https://localhost:8080/"
        },
        "id": "flQIhs2syYAp",
        "outputId": "d52dc474-1844-4c81-ea7a-8dbca1900d28"
      },
      "source": [
        "print(x)"
      ],
      "execution_count": null,
      "outputs": [
        {
          "output_type": "stream",
          "text": [
            "[1 3]\n"
          ],
          "name": "stdout"
        }
      ]
    },
    {
      "cell_type": "markdown",
      "metadata": {
        "id": "MNErbEdIy2u1"
      },
      "source": [
        "Atrybuty tablicy\r\n",
        "x.ndim = pokazuje jak wielowymiarowa jest tablica\r\n",
        "x.shape = podaje jai jest kształ tablicy w tupli \r\n",
        "x.size = ile elementów jest w tablicy\r\n",
        "x.dtype = typ danych"
      ]
    },
    {
      "cell_type": "markdown",
      "metadata": {
        "id": "X0Ia_yDJ0ook"
      },
      "source": [
        "2 wymiarow tablica\r\n"
      ]
    },
    {
      "cell_type": "code",
      "metadata": {
        "colab": {
          "base_uri": "https://localhost:8080/"
        },
        "id": "KlllnTnj0sF7",
        "outputId": "cbf229f2-fd3a-4a02-d178-3c330378ea81"
      },
      "source": [
        "np.array([[1,2],[3,4]])"
      ],
      "execution_count": null,
      "outputs": [
        {
          "output_type": "execute_result",
          "data": {
            "text/plain": [
              "array([[1, 2],\n",
              "       [3, 4]])"
            ]
          },
          "metadata": {
            "tags": []
          },
          "execution_count": 10
        }
      ]
    },
    {
      "cell_type": "code",
      "metadata": {
        "colab": {
          "base_uri": "https://localhost:8080/"
        },
        "id": "KDKHMQr01HQC",
        "outputId": "86881a0a-c69d-416d-e038-ba442cfb34f7"
      },
      "source": [
        "x=np.array([[1,2],[3,4]])\r\n",
        "print(x)"
      ],
      "execution_count": null,
      "outputs": [
        {
          "output_type": "stream",
          "text": [
            "[[1 2]\n",
            " [3 4]]\n"
          ],
          "name": "stdout"
        }
      ]
    },
    {
      "cell_type": "code",
      "metadata": {
        "colab": {
          "base_uri": "https://localhost:8080/"
        },
        "id": "b0bovqMa1WC6",
        "outputId": "d8b0a273-97d0-4d8f-9b17-6117e236d61a"
      },
      "source": [
        "x.ndim"
      ],
      "execution_count": null,
      "outputs": [
        {
          "output_type": "execute_result",
          "data": {
            "text/plain": [
              "2"
            ]
          },
          "metadata": {
            "tags": []
          },
          "execution_count": 13
        }
      ]
    },
    {
      "cell_type": "code",
      "metadata": {
        "colab": {
          "base_uri": "https://localhost:8080/"
        },
        "id": "gEikbW9G1ZS8",
        "outputId": "3c16ec6e-557a-4edb-a012-85485a5ec866"
      },
      "source": [
        "x.shape"
      ],
      "execution_count": null,
      "outputs": [
        {
          "output_type": "execute_result",
          "data": {
            "text/plain": [
              "(2, 2)"
            ]
          },
          "metadata": {
            "tags": []
          },
          "execution_count": 14
        }
      ]
    },
    {
      "cell_type": "code",
      "metadata": {
        "colab": {
          "base_uri": "https://localhost:8080/"
        },
        "id": "XqxoHwf71ldq",
        "outputId": "39777e69-1b1f-4fb3-f61b-a7a30d2b7176"
      },
      "source": [
        "x.size"
      ],
      "execution_count": null,
      "outputs": [
        {
          "output_type": "execute_result",
          "data": {
            "text/plain": [
              "4"
            ]
          },
          "metadata": {
            "tags": []
          },
          "execution_count": 15
        }
      ]
    },
    {
      "cell_type": "code",
      "metadata": {
        "colab": {
          "base_uri": "https://localhost:8080/"
        },
        "id": "WN1IINlJ1oXC",
        "outputId": "fba0c541-e630-47ff-98e2-0426b26ffc72"
      },
      "source": [
        "x= np.array([[1,23,4],[3,45,5]])\r\n",
        "x"
      ],
      "execution_count": null,
      "outputs": [
        {
          "output_type": "execute_result",
          "data": {
            "text/plain": [
              "array([[ 1, 23,  4],\n",
              "       [ 3, 45,  5]])"
            ]
          },
          "metadata": {
            "tags": []
          },
          "execution_count": 17
        }
      ]
    },
    {
      "cell_type": "code",
      "metadata": {
        "colab": {
          "base_uri": "https://localhost:8080/"
        },
        "id": "NvXx184a10uo",
        "outputId": "c04069c6-2bba-4050-c163-10031a2fc19b"
      },
      "source": [
        "x.shape"
      ],
      "execution_count": null,
      "outputs": [
        {
          "output_type": "execute_result",
          "data": {
            "text/plain": [
              "(2, 3)"
            ]
          },
          "metadata": {
            "tags": []
          },
          "execution_count": 18
        }
      ]
    },
    {
      "cell_type": "markdown",
      "metadata": {
        "id": "t4Qqu3UJ2xE6"
      },
      "source": [
        "3 wymiarowa tablica"
      ]
    },
    {
      "cell_type": "code",
      "metadata": {
        "colab": {
          "base_uri": "https://localhost:8080/"
        },
        "id": "xpHU62A-16hv",
        "outputId": "9757c351-3721-401b-f7db-a409b98c7158"
      },
      "source": [
        "x=np.array(\r\n",
        "    [[[4,3,1,4],\r\n",
        "      [3,2,1,7]],\r\n",
        "     \r\n",
        "     [[6,7,8,6],\r\n",
        "      [9,8,7,6]],\r\n",
        "     \r\n",
        "     [[6,7,8,6],\r\n",
        "      [9,8,7,6]]]\r\n",
        ")\r\n",
        "x"
      ],
      "execution_count": null,
      "outputs": [
        {
          "output_type": "execute_result",
          "data": {
            "text/plain": [
              "array([[[4, 3, 1, 4],\n",
              "        [3, 2, 1, 7]],\n",
              "\n",
              "       [[6, 7, 8, 6],\n",
              "        [9, 8, 7, 6]],\n",
              "\n",
              "       [[6, 7, 8, 6],\n",
              "        [9, 8, 7, 6]]])"
            ]
          },
          "metadata": {
            "tags": []
          },
          "execution_count": 28
        }
      ]
    },
    {
      "cell_type": "code",
      "metadata": {
        "colab": {
          "base_uri": "https://localhost:8080/"
        },
        "id": "uDMA46hd2dr2",
        "outputId": "35d3ffd6-b8ac-43e1-b6f2-acabc9ee308b"
      },
      "source": [
        "x.ndim"
      ],
      "execution_count": null,
      "outputs": [
        {
          "output_type": "execute_result",
          "data": {
            "text/plain": [
              "3"
            ]
          },
          "metadata": {
            "tags": []
          },
          "execution_count": 29
        }
      ]
    },
    {
      "cell_type": "code",
      "metadata": {
        "colab": {
          "base_uri": "https://localhost:8080/"
        },
        "id": "bLamwUIc2sIq",
        "outputId": "21781717-1b4a-44b5-efbf-b643bd14cdce"
      },
      "source": [
        "x.shape #3 tablice, 2 wiersze, 4 kolumny "
      ],
      "execution_count": null,
      "outputs": [
        {
          "output_type": "execute_result",
          "data": {
            "text/plain": [
              "(3, 2, 4)"
            ]
          },
          "metadata": {
            "tags": []
          },
          "execution_count": 31
        }
      ]
    },
    {
      "cell_type": "markdown",
      "metadata": {
        "id": "rTyPaJcQ4JcA"
      },
      "source": [
        "# TYPY DANYCH"
      ]
    }
  ]
}